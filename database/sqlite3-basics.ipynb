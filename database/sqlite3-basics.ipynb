{
 "cells": [
  {
   "cell_type": "code",
   "execution_count": 3,
   "metadata": {
    "collapsed": false
   },
   "outputs": [],
   "source": [
    "import sqlite3\n",
    "\n",
    "## Calling connect() method on a database file returns\n",
    "## a connection object\n",
    "conn = sqlite3.connect('example.db')\n",
    "\n",
    "## Calling cursor() method returns a cursor object,\n",
    "## which is used for various database operations\n",
    "c = conn.cursor()\n"
   ]
  },
  {
   "cell_type": "code",
   "execution_count": 4,
   "metadata": {
    "collapsed": false
   },
   "outputs": [
    {
     "data": {
      "text/plain": [
       "<sqlite3.Cursor at 0x103b83ea0>"
      ]
     },
     "execution_count": 4,
     "metadata": {},
     "output_type": "execute_result"
    }
   ],
   "source": [
    "## SQL statement to create a table\n",
    "sql = \"\"\"\n",
    "    create table students (\n",
    "        student_id integer,\n",
    "        first_name varchar(50),\n",
    "        last_name varchar(50),\n",
    "        date_of_birth date\n",
    "    )\n",
    "\"\"\"\n",
    "\n",
    "## Run the SQL statement on the database\n",
    "c.execute(sql)"
   ]
  },
  {
   "cell_type": "code",
   "execution_count": 6,
   "metadata": {
    "collapsed": false
   },
   "outputs": [
    {
     "data": {
      "text/plain": [
       "<sqlite3.Cursor at 0x103b83ea0>"
      ]
     },
     "execution_count": 6,
     "metadata": {},
     "output_type": "execute_result"
    }
   ],
   "source": [
    "## SQL statement to insert a row into the table\n",
    "sql = \"insert into students values(1, 'Aaron', 'Xiang', '1970-05-26')\"\n",
    "\n",
    "c.execute(sql)\n",
    "conn.commit()"
   ]
  },
  {
   "cell_type": "code",
   "execution_count": 7,
   "metadata": {
    "collapsed": false
   },
   "outputs": [
    {
     "name": "stdout",
     "output_type": "stream",
     "text": [
      "(1, 'Henry', 'Xiang', '1970-05-26')\n",
      "(1, 'Aaron', 'Xiang', '1970-05-26')\n"
     ]
    }
   ],
   "source": [
    "## SQL statement to get all rows from a table\n",
    "sql = \"select * from students\"\n",
    "\n",
    "for row in c.execute(sql):\n",
    "    print(row)"
   ]
  },
  {
   "cell_type": "code",
   "execution_count": null,
   "metadata": {
    "collapsed": true
   },
   "outputs": [],
   "source": []
  }
 ],
 "metadata": {
  "kernelspec": {
   "display_name": "Python 3",
   "language": "python",
   "name": "python3"
  },
  "language_info": {
   "codemirror_mode": {
    "name": "ipython",
    "version": 3
   },
   "file_extension": ".py",
   "mimetype": "text/x-python",
   "name": "python",
   "nbconvert_exporter": "python",
   "pygments_lexer": "ipython3",
   "version": "3.4.3"
  }
 },
 "nbformat": 4,
 "nbformat_minor": 0
}
